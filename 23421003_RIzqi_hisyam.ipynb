{
  "nbformat": 4,
  "nbformat_minor": 0,
  "metadata": {
    "colab": {
      "provenance": []
    },
    "kernelspec": {
      "name": "python3",
      "display_name": "Python 3"
    },
    "language_info": {
      "name": "python"
    }
  },
  "cells": [
    {
      "cell_type": "markdown",
      "metadata": {
        "id": "view-in-github"
      },
      "source": [
        "<a href=\"https://colab.research.google.com/github/Angga-Luri/some-try-code/blob/main/K_Means_Clustering.ipynb\" target=\"_parent\"><img src=\"https://colab.research.google.com/assets/colab-badge.svg\" alt=\"Open In Colab\"/></a>"
      ]
    },
    {
      "cell_type": "code",
      "source": [
        "import matplotlib as plt\n",
        "from sklearn.datasets import make_blobs\n",
        "from sklearn.cluster import KMeans\n",
        "from sklearn.metrics import silhouette_score\n",
        "from sklearn.preprocessing import StandardScaler"
      ],
      "metadata": {
        "id": "S6ePUqDTGwHm"
      },
      "execution_count": 15,
      "outputs": []
    },
    {
      "cell_type": "code",
      "source": [
        "features, true_label = make_blobs(\n",
        "    n_samples=300,\n",
        "    centers=5,\n",
        "    cluster_std=2.75,\n",
        "    random_state=42\n",
        ")"
      ],
      "metadata": {
        "id": "nkPblt_CGxB_"
      },
      "execution_count": 16,
      "outputs": []
    },
    {
      "cell_type": "code",
      "source": [
        "features[:10]"
      ],
      "metadata": {
        "colab": {
          "base_uri": "https://localhost:8080/"
        },
        "id": "9QCDzpecHyL3",
        "outputId": "5cfc6918-5492-46b3-cfc9-8f41e42c6058"
      },
      "execution_count": 17,
      "outputs": [
        {
          "output_type": "execute_result",
          "data": {
            "text/plain": [
              "array([[ 2.67781361,  9.49437511],\n",
              "       [-2.04381194,  7.30677517],\n",
              "       [-1.93482274,  3.62519329],\n",
              "       [ 4.02535618,  3.93667104],\n",
              "       [-6.16170926,  9.55565453],\n",
              "       [-9.14722989,  6.71585652],\n",
              "       [ 0.39321694,  1.78547694],\n",
              "       [-6.67116466, -8.7423043 ],\n",
              "       [-7.78214777,  7.23361236],\n",
              "       [ 3.60924858,  3.60307674]])"
            ]
          },
          "metadata": {},
          "execution_count": 17
        }
      ]
    },
    {
      "cell_type": "code",
      "source": [
        "true_label[:200]"
      ],
      "metadata": {
        "id": "agqrrSs7H4VM",
        "colab": {
          "base_uri": "https://localhost:8080/"
        },
        "outputId": "61adc36c-0861-4c0f-fca8-07269b9fca61"
      },
      "execution_count": 18,
      "outputs": [
        {
          "output_type": "execute_result",
          "data": {
            "text/plain": [
              "array([0, 4, 0, 1, 0, 3, 4, 2, 3, 4, 1, 0, 1, 0, 4, 0, 1, 1, 4, 0, 0, 1,\n",
              "       0, 4, 4, 0, 2, 4, 1, 2, 3, 4, 4, 3, 2, 1, 1, 4, 3, 1, 0, 1, 2, 3,\n",
              "       4, 3, 0, 2, 4, 2, 3, 4, 2, 3, 0, 3, 1, 0, 3, 2, 0, 3, 4, 4, 2, 1,\n",
              "       2, 2, 2, 2, 1, 2, 3, 4, 3, 0, 3, 3, 4, 0, 2, 0, 0, 4, 0, 2, 3, 1,\n",
              "       1, 4, 4, 4, 0, 4, 0, 0, 4, 3, 1, 4, 3, 3, 1, 2, 0, 0, 0, 1, 0, 1,\n",
              "       3, 4, 1, 1, 0, 0, 0, 2, 3, 3, 3, 2, 3, 3, 0, 2, 4, 4, 3, 0, 1, 3,\n",
              "       1, 0, 0, 0, 0, 1, 2, 4, 0, 3, 0, 1, 4, 0, 4, 2, 1, 2, 1, 2, 2, 1,\n",
              "       0, 4, 2, 3, 0, 1, 3, 3, 4, 1, 0, 3, 4, 4, 1, 4, 2, 0, 1, 1, 0, 1,\n",
              "       3, 1, 2, 2, 3, 3, 1, 2, 2, 4, 0, 3, 2, 1, 4, 2, 0, 2, 2, 3, 3, 2,\n",
              "       4, 1])"
            ]
          },
          "metadata": {},
          "execution_count": 18
        }
      ]
    },
    {
      "cell_type": "code",
      "source": [
        "standard_skala = StandardScaler()\n",
        "skala_fitur = standard_skala.fit_transform(features)"
      ],
      "metadata": {
        "id": "TwN5RrbbI2aJ"
      },
      "execution_count": 19,
      "outputs": []
    },
    {
      "cell_type": "code",
      "source": [
        "skala_fitur[:10]"
      ],
      "metadata": {
        "colab": {
          "base_uri": "https://localhost:8080/"
        },
        "id": "yXpt4mI4Oyf8",
        "outputId": "3b9afe77-cf45-4633-ceed-2379278bc3f8"
      },
      "execution_count": 20,
      "outputs": [
        {
          "output_type": "execute_result",
          "data": {
            "text/plain": [
              "array([[ 0.89566139,  1.04090357],\n",
              "       [ 0.05519074,  0.68668293],\n",
              "       [ 0.07459131,  0.09055367],\n",
              "       [ 1.13553005,  0.14098879],\n",
              "       [-0.67781357,  1.05082606],\n",
              "       [-1.20924971,  0.59100017],\n",
              "       [ 0.48899288, -0.20733695],\n",
              "       [-0.76849893, -1.91201678],\n",
              "       [-0.96625893,  0.67483625],\n",
              "       [ 1.06146102,  0.08697252]])"
            ]
          },
          "metadata": {},
          "execution_count": 20
        }
      ]
    },
    {
      "cell_type": "code",
      "source": [
        "metode_kmeans = KMeans(\n",
        "    init=\"random\",\n",
        "    n_clusters=3,\n",
        "    n_init=10,\n",
        "    max_iter=100,\n",
        "    random_state=41\n",
        "    )"
      ],
      "metadata": {
        "id": "5lWkbEx6PDq_"
      },
      "execution_count": 21,
      "outputs": []
    },
    {
      "cell_type": "code",
      "source": [
        "metode_kmeans.fit(skala_fitur)"
      ],
      "metadata": {
        "colab": {
          "base_uri": "https://localhost:8080/",
          "height": 75
        },
        "id": "ZmyPuP06R2Gc",
        "outputId": "46649711-adf2-413d-da9b-f9c7b855b56e"
      },
      "execution_count": 22,
      "outputs": [
        {
          "output_type": "execute_result",
          "data": {
            "text/plain": [
              "KMeans(init='random', max_iter=100, n_clusters=3, n_init=10, random_state=41)"
            ],
            "text/html": [
              "<style>#sk-container-id-2 {color: black;background-color: white;}#sk-container-id-2 pre{padding: 0;}#sk-container-id-2 div.sk-toggleable {background-color: white;}#sk-container-id-2 label.sk-toggleable__label {cursor: pointer;display: block;width: 100%;margin-bottom: 0;padding: 0.3em;box-sizing: border-box;text-align: center;}#sk-container-id-2 label.sk-toggleable__label-arrow:before {content: \"▸\";float: left;margin-right: 0.25em;color: #696969;}#sk-container-id-2 label.sk-toggleable__label-arrow:hover:before {color: black;}#sk-container-id-2 div.sk-estimator:hover label.sk-toggleable__label-arrow:before {color: black;}#sk-container-id-2 div.sk-toggleable__content {max-height: 0;max-width: 0;overflow: hidden;text-align: left;background-color: #f0f8ff;}#sk-container-id-2 div.sk-toggleable__content pre {margin: 0.2em;color: black;border-radius: 0.25em;background-color: #f0f8ff;}#sk-container-id-2 input.sk-toggleable__control:checked~div.sk-toggleable__content {max-height: 200px;max-width: 100%;overflow: auto;}#sk-container-id-2 input.sk-toggleable__control:checked~label.sk-toggleable__label-arrow:before {content: \"▾\";}#sk-container-id-2 div.sk-estimator input.sk-toggleable__control:checked~label.sk-toggleable__label {background-color: #d4ebff;}#sk-container-id-2 div.sk-label input.sk-toggleable__control:checked~label.sk-toggleable__label {background-color: #d4ebff;}#sk-container-id-2 input.sk-hidden--visually {border: 0;clip: rect(1px 1px 1px 1px);clip: rect(1px, 1px, 1px, 1px);height: 1px;margin: -1px;overflow: hidden;padding: 0;position: absolute;width: 1px;}#sk-container-id-2 div.sk-estimator {font-family: monospace;background-color: #f0f8ff;border: 1px dotted black;border-radius: 0.25em;box-sizing: border-box;margin-bottom: 0.5em;}#sk-container-id-2 div.sk-estimator:hover {background-color: #d4ebff;}#sk-container-id-2 div.sk-parallel-item::after {content: \"\";width: 100%;border-bottom: 1px solid gray;flex-grow: 1;}#sk-container-id-2 div.sk-label:hover label.sk-toggleable__label {background-color: #d4ebff;}#sk-container-id-2 div.sk-serial::before {content: \"\";position: absolute;border-left: 1px solid gray;box-sizing: border-box;top: 0;bottom: 0;left: 50%;z-index: 0;}#sk-container-id-2 div.sk-serial {display: flex;flex-direction: column;align-items: center;background-color: white;padding-right: 0.2em;padding-left: 0.2em;position: relative;}#sk-container-id-2 div.sk-item {position: relative;z-index: 1;}#sk-container-id-2 div.sk-parallel {display: flex;align-items: stretch;justify-content: center;background-color: white;position: relative;}#sk-container-id-2 div.sk-item::before, #sk-container-id-2 div.sk-parallel-item::before {content: \"\";position: absolute;border-left: 1px solid gray;box-sizing: border-box;top: 0;bottom: 0;left: 50%;z-index: -1;}#sk-container-id-2 div.sk-parallel-item {display: flex;flex-direction: column;z-index: 1;position: relative;background-color: white;}#sk-container-id-2 div.sk-parallel-item:first-child::after {align-self: flex-end;width: 50%;}#sk-container-id-2 div.sk-parallel-item:last-child::after {align-self: flex-start;width: 50%;}#sk-container-id-2 div.sk-parallel-item:only-child::after {width: 0;}#sk-container-id-2 div.sk-dashed-wrapped {border: 1px dashed gray;margin: 0 0.4em 0.5em 0.4em;box-sizing: border-box;padding-bottom: 0.4em;background-color: white;}#sk-container-id-2 div.sk-label label {font-family: monospace;font-weight: bold;display: inline-block;line-height: 1.2em;}#sk-container-id-2 div.sk-label-container {text-align: center;}#sk-container-id-2 div.sk-container {/* jupyter's `normalize.less` sets `[hidden] { display: none; }` but bootstrap.min.css set `[hidden] { display: none !important; }` so we also need the `!important` here to be able to override the default hidden behavior on the sphinx rendered scikit-learn.org. See: https://github.com/scikit-learn/scikit-learn/issues/21755 */display: inline-block !important;position: relative;}#sk-container-id-2 div.sk-text-repr-fallback {display: none;}</style><div id=\"sk-container-id-2\" class=\"sk-top-container\"><div class=\"sk-text-repr-fallback\"><pre>KMeans(init=&#x27;random&#x27;, max_iter=100, n_clusters=3, n_init=10, random_state=41)</pre><b>In a Jupyter environment, please rerun this cell to show the HTML representation or trust the notebook. <br />On GitHub, the HTML representation is unable to render, please try loading this page with nbviewer.org.</b></div><div class=\"sk-container\" hidden><div class=\"sk-item\"><div class=\"sk-estimator sk-toggleable\"><input class=\"sk-toggleable__control sk-hidden--visually\" id=\"sk-estimator-id-2\" type=\"checkbox\" checked><label for=\"sk-estimator-id-2\" class=\"sk-toggleable__label sk-toggleable__label-arrow\">KMeans</label><div class=\"sk-toggleable__content\"><pre>KMeans(init=&#x27;random&#x27;, max_iter=100, n_clusters=3, n_init=10, random_state=41)</pre></div></div></div></div></div>"
            ]
          },
          "metadata": {},
          "execution_count": 22
        }
      ]
    },
    {
      "cell_type": "code",
      "source": [
        "metode_kmeans.inertia_"
      ],
      "metadata": {
        "id": "b3JVLMkcSNaE",
        "colab": {
          "base_uri": "https://localhost:8080/"
        },
        "outputId": "63bed2b1-d224-4c77-9631-1de220bb16ce"
      },
      "execution_count": 23,
      "outputs": [
        {
          "output_type": "execute_result",
          "data": {
            "text/plain": [
              "154.9272116636811"
            ]
          },
          "metadata": {},
          "execution_count": 23
        }
      ]
    },
    {
      "cell_type": "code",
      "source": [
        "metode_kmeans.cluster_centers_"
      ],
      "metadata": {
        "colab": {
          "base_uri": "https://localhost:8080/"
        },
        "id": "3evacVnUUMR5",
        "outputId": "14bec6af-6196-42d4-a102-4025617c66e2"
      },
      "execution_count": 24,
      "outputs": [
        {
          "output_type": "execute_result",
          "data": {
            "text/plain": [
              "array([[-0.71095412, -1.65026178],\n",
              "       [-0.68258693,  0.79813128],\n",
              "       [ 0.9960969 ,  0.0458077 ]])"
            ]
          },
          "metadata": {},
          "execution_count": 24
        }
      ]
    },
    {
      "cell_type": "code",
      "source": [
        "metode_kmeans.n_iter_"
      ],
      "metadata": {
        "colab": {
          "base_uri": "https://localhost:8080/"
        },
        "id": "NoWHmBQaURp2",
        "outputId": "ef9b625e-d619-400e-d4c9-d3bb21793f8b"
      },
      "execution_count": 25,
      "outputs": [
        {
          "output_type": "execute_result",
          "data": {
            "text/plain": [
              "5"
            ]
          },
          "metadata": {},
          "execution_count": 25
        }
      ]
    },
    {
      "cell_type": "code",
      "source": [
        "metode_kmeans.labels_"
      ],
      "metadata": {
        "colab": {
          "base_uri": "https://localhost:8080/"
        },
        "id": "SJNbkGhEWQRQ",
        "outputId": "96d56f60-2215-4900-fbb4-c22daa13bb14"
      },
      "execution_count": 26,
      "outputs": [
        {
          "output_type": "execute_result",
          "data": {
            "text/plain": [
              "array([2, 1, 2, 2, 1, 1, 2, 0, 1, 2, 2, 1, 2, 1, 2, 1, 2, 2, 1, 1, 1, 2,\n",
              "       1, 2, 2, 2, 0, 2, 2, 0, 1, 2, 2, 1, 0, 2, 2, 2, 1, 2, 1, 2, 0, 1,\n",
              "       2, 1, 1, 0, 2, 0, 1, 2, 0, 1, 1, 1, 2, 1, 1, 0, 2, 1, 2, 2, 0, 2,\n",
              "       0, 0, 0, 0, 2, 0, 1, 2, 1, 1, 1, 1, 2, 1, 0, 1, 1, 2, 1, 0, 1, 2,\n",
              "       2, 2, 2, 2, 1, 2, 1, 1, 2, 1, 2, 2, 1, 1, 2, 0, 2, 1, 1, 2, 1, 2,\n",
              "       1, 2, 2, 2, 1, 1, 2, 0, 1, 1, 1, 0, 1, 1, 1, 0, 2, 1, 1, 1, 2, 1,\n",
              "       2, 1, 1, 1, 1, 2, 0, 2, 1, 1, 1, 2, 2, 2, 2, 0, 2, 0, 2, 0, 0, 2,\n",
              "       2, 2, 0, 1, 1, 2, 1, 1, 1, 2, 1, 1, 2, 2, 2, 2, 0, 1, 2, 2, 2, 2,\n",
              "       1, 2, 0, 0, 1, 1, 2, 0, 0, 2, 1, 1, 0, 2, 2, 0, 1, 0, 0, 1, 1, 0,\n",
              "       2, 2, 1, 0, 2, 2, 1, 1, 1, 0, 0, 1, 0, 1, 1, 0, 1, 2, 1, 1, 0, 2,\n",
              "       1, 1, 2, 1, 2, 2, 1, 2, 1, 2, 1, 2, 2, 0, 2, 2, 2, 2, 2, 1, 1, 2,\n",
              "       0, 1, 0, 1, 2, 2, 0, 0, 2, 2, 1, 0, 1, 2, 0, 2, 0, 2, 0, 1, 2, 2,\n",
              "       2, 1, 2, 2, 0, 2, 1, 0, 0, 1, 1, 1, 2, 2, 1, 2, 1, 1, 1, 2, 2, 0,\n",
              "       0, 0, 2, 2, 1, 2, 0, 1, 1, 1, 0, 2, 2, 1], dtype=int32)"
            ]
          },
          "metadata": {},
          "execution_count": 26
        }
      ]
    },
    {
      "cell_type": "code",
      "source": [
        "import numpy as np\n",
        "import matplotlib.pyplot as plt\n",
        "import pandas as pd\n",
        "\n"
      ],
      "metadata": {
        "id": "zjyCAIU6Wxmt"
      },
      "execution_count": 27,
      "outputs": []
    },
    {
      "cell_type": "code",
      "source": [],
      "metadata": {
        "id": "DvBn2AwbZbSb"
      },
      "execution_count": 27,
      "outputs": []
    },
    {
      "cell_type": "code",
      "source": [
        "\n",
        "color = np.array([\"Green\",\"Blue\",\"yellow\"])\n",
        "plt.subplot(1,2,2)\n",
        "plt.scatter(skala_fitur[:,0], skala_fitur[:,1], s=50, alpha=1, cmap='viridis', c=color[metode_kmeans.labels_])\n"
      ],
      "metadata": {
        "colab": {
          "base_uri": "https://localhost:8080/",
          "height": 482
        },
        "id": "tJyWKlbxZmqa",
        "outputId": "0e22cef7-1eae-4eb6-b79b-96509c1b40ce"
      },
      "execution_count": 28,
      "outputs": [
        {
          "output_type": "stream",
          "name": "stderr",
          "text": [
            "<ipython-input-28-bafad51952e7>:3: UserWarning: No data for colormapping provided via 'c'. Parameters 'cmap' will be ignored\n",
            "  plt.scatter(skala_fitur[:,0], skala_fitur[:,1], s=50, alpha=1, cmap='viridis', c=color[metode_kmeans.labels_])\n"
          ]
        },
        {
          "output_type": "execute_result",
          "data": {
            "text/plain": [
              "<matplotlib.collections.PathCollection at 0x7d4a1fa66d10>"
            ]
          },
          "metadata": {},
          "execution_count": 28
        },
        {
          "output_type": "display_data",
          "data": {
            "text/plain": [
              "<Figure size 640x480 with 1 Axes>"
            ],
            "image/png": "[encoded data removed]"
          },
          "metadata": {}
        }
      ]
    },
    {
      "cell_type": "code",
      "source": [],
      "metadata": {
        "id": "uoAIyQgVIubc"
      },
      "execution_count": 28,
      "outputs": []
    }
  ]
}